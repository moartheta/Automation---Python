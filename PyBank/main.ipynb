{
 "cells": [
  {
   "cell_type": "code",
   "execution_count": 1,
   "metadata": {},
   "outputs": [],
   "source": [
    "# Import libraries\n",
    "from pathlib import Path\n",
    "import csv"
   ]
  },
  {
   "cell_type": "code",
   "execution_count": 2,
   "metadata": {},
   "outputs": [],
   "source": [
    "# Setting file path for budget_data.csv\n",
    "csvpath = Path('C:\\\\Users\\\\grego\\\\Desktop\\\\python-homework\\\\PyBank\\\\budget_data.csv')"
   ]
  },
  {
   "cell_type": "code",
   "execution_count": 3,
   "metadata": {},
   "outputs": [],
   "source": [
    "#Initalizing list for csv data \n",
    "dates = []\n",
    "profit_loss = []\n",
    "line_num = 0\n",
    "\n",
    "with open(csvpath, 'r') as csvfile:\n",
    "    budget_data = csv.reader(csvfile, delimiter=',')\n",
    "    header = next(budget_data)\n",
    "    line_num += 1\n",
    "    \n",
    "    for row in budget_data:\n",
    "        pnl = int(row[1])\n",
    "        date = row[0]\n",
    "        profit_loss.append(pnl)\n",
    "        dates.append(date)   "
   ]
  },
  {
   "cell_type": "code",
   "execution_count": 4,
   "metadata": {},
   "outputs": [],
   "source": [
    "#Initializing variables and lists for data analysis\n",
    "monthly_change = []\n",
    "index_counter = 0\n",
    "months = 0\n",
    "num_of_changes = 0\n",
    "total_pnl = 0\n",
    "average_pnl = 0\n",
    "\n",
    "#Calculating number of months and total pnl\n",
    "for pnl in profit_loss:\n",
    "    months += 1\n",
    "    total_pnl += pnl\n",
    "    \n",
    "#Appending list for monthly pnl changes\n",
    "for pnl in range(0,len(profit_loss)-1):\n",
    "    index_counter += 1\n",
    "    change = int(profit_loss[index_counter] - profit_loss[pnl])\n",
    "    monthly_change.append(change)\n",
    "\n",
    "#Calculating total monthly pnl change\n",
    "for change in monthly_change:\n",
    "    num_of_changes += 1\n",
    "    average_pnl += change\n",
    "\n",
    "#Calculating greatest increase, decrease and average monthly pnl change\n",
    "greatest_increase = max(monthly_change)\n",
    "greatest_decrease = min(monthly_change)\n",
    "average_change = round((average_pnl / num_of_changes),2)\n",
    "\n",
    "#Finding the index of the greatest increase\n",
    "greatest_index = monthly_change.index(greatest_increase) + 1\n",
    "\n",
    "#Finding the corresponding greatest increase date in list \"dates\"\n",
    "greatest_date = dates[greatest_index]\n",
    "\n",
    "#Finding the index of the greatest decrease\n",
    "worst_index = monthly_change.index(greatest_decrease) + 1\n",
    "\n",
    "#Finding the corresponding greatest decrease date in list \"dates\"\n",
    "worst_date = dates[worst_index]"
   ]
  },
  {
   "cell_type": "code",
   "execution_count": 5,
   "metadata": {},
   "outputs": [
    {
     "name": "stdout",
     "output_type": "stream",
     "text": [
      "Financial Analysis\n",
      "----------------------------\n",
      "Total Months: 86\n",
      "Total: $38382578\n",
      "Average Change: $-2315.12\n",
      "Greatest Increase in Profits: Feb-2012 ($1926159)\n",
      "Greatest Decrease in Profits: Sep-2013 ($-2196167)\n"
     ]
    }
   ],
   "source": [
    "#Printing Financial Analysis to the Terminal\n",
    "print(f\"\"\"Financial Analysis\n",
    "----------------------------\n",
    "Total Months: {months}\n",
    "Total: ${total_pnl}\n",
    "Average Change: ${average_change}\n",
    "Greatest Increase in Profits: {greatest_date} (${greatest_increase})\n",
    "Greatest Decrease in Profits: {worst_date} (${greatest_decrease})\"\"\")\n",
    "\n",
    "#Writing Financial Analysis to a .txt file\n",
    "with open(\"financial_results.txt\", \"w\") as f:\n",
    "    print(f\"\"\"Financial Analysis\n",
    "----------------------------\n",
    "Total Months: {months}\n",
    "Total: ${total_pnl}\n",
    "Average Change: ${average_change}\n",
    "Greatest Increase in Profits: {greatest_date} (${greatest_increase})\n",
    "Greatest Decrease in Profits: {worst_date} (${greatest_decrease})\"\"\", file=f)"
   ]
  },
  {
   "cell_type": "code",
   "execution_count": null,
   "metadata": {},
   "outputs": [],
   "source": []
  }
 ],
 "metadata": {
  "kernelspec": {
   "display_name": "Python 3",
   "language": "python",
   "name": "python3"
  },
  "language_info": {
   "codemirror_mode": {
    "name": "ipython",
    "version": 3
   },
   "file_extension": ".py",
   "mimetype": "text/x-python",
   "name": "python",
   "nbconvert_exporter": "python",
   "pygments_lexer": "ipython3",
   "version": "3.7.7"
  }
 },
 "nbformat": 4,
 "nbformat_minor": 4
}
