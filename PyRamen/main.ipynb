{
 "cells": [
  {
   "cell_type": "code",
   "execution_count": 20,
   "metadata": {},
   "outputs": [],
   "source": [
    "# Importing libraries\n",
    "import csv\n",
    "from pathlib import Path"
   ]
  },
  {
   "cell_type": "code",
   "execution_count": 21,
   "metadata": {},
   "outputs": [],
   "source": [
    "# Setting the filepath\n",
    "menu_filepath = Path('C:\\\\Users\\grego\\\\Desktop\\\\python-homework\\\\PyRamen\\\\menu_data.csv')\n",
    "sales_filepath = Path('C:\\\\Users\\\\grego\\\\Desktop\\\\python-homework\\\\PyRamen\\\\sales_data.csv')\n",
    "\n",
    "# Initializing lists to hold csv data\n",
    "menu = []\n",
    "sales = []\n",
    "\n",
    "# Adding csv file data into lists\n",
    "line_num = 0\n",
    "\n",
    "with open(menu_filepath, 'r') as csvfile:\n",
    "    csvreader = csv.reader(csvfile, delimiter=',')\n",
    "    header = next(csvreader)\n",
    "    line_num += 1\n",
    "\n",
    "    for row in csvreader:\n",
    "        data = row[0:5]\n",
    "        menu.append(data)  \n",
    "\n",
    "with open(sales_filepath, 'r') as csvfile:\n",
    "    csvreader = csv.reader(csvfile, delimiter=',')\n",
    "    header = next(csvreader)\n",
    "    line_num += 1\n",
    "\n",
    "    for row in csvreader:\n",
    "        data = row[0:5]\n",
    "        sales.append(data)   "
   ]
  },
  {
   "cell_type": "code",
   "execution_count": 22,
   "metadata": {},
   "outputs": [
    {
     "name": "stdout",
     "output_type": "stream",
     "text": [
      "74124\n"
     ]
    }
   ],
   "source": [
    "# Initializing empty dictionary and row counter\n",
    "report = {}\n",
    "row_counter = 0\n",
    "\n",
    "# Looping over rows in sales data\n",
    "for row in sales:\n",
    "    quantity = int(row[3])\n",
    "    sales_item = row[4]    \n",
    "\n",
    "    # Adding keys, values to dictionary for the first time\n",
    "    if sales_item not in report.keys():\n",
    "        report[sales_item] = {\n",
    "        \"01-count\": 0,\n",
    "        \"02-revenue\": 0,\n",
    "        \"03-cogs\": 0,\n",
    "        \"04-profit\": 0,\n",
    "        }\n",
    "\n",
    "    # Setting variables for menu items and determining if they match sales data\n",
    "    for row in menu:\n",
    "        item = row[0]\n",
    "        price = float(row[3])\n",
    "        cost = int(row[4])\n",
    "\n",
    "        # Calculating the profit of each item in the menu data\n",
    "        profit = (price - cost)\n",
    "\n",
    "        # Checking if item in sales data is in the menu data\n",
    "        if sales_item in item:\n",
    "           \n",
    "            # Cumulatively adding up the metrics for each item key\n",
    "            report[sales_item][\"01-count\"] += quantity\n",
    "            report[sales_item][\"02-revenue\"] += price * quantity\n",
    "            report[sales_item][\"03-cogs\"] += cost * quantity\n",
    "            report[sales_item][\"04-profit\"] += profit * quantity\n",
    "\n",
    "    #Incrementing the row counter by 1\n",
    "    row_counter += 1\n",
    "\n",
    "# Printing total number of items in sales data\n",
    "print(row_counter)\n",
    "\n",
    "# Write out report to a text file\n",
    "with open(\"sales_results.txt\", \"w\") as f:\n",
    "    print(\"Sales Analysis\", file=f)\n",
    "    for key, value in report.items():\n",
    "        print((key, value), file=f)\n"
   ]
  }
 ],
 "metadata": {
  "kernelspec": {
   "display_name": "Python 3",
   "language": "python",
   "name": "python3"
  },
  "language_info": {
   "codemirror_mode": {
    "name": "ipython",
    "version": 3
   },
   "file_extension": ".py",
   "mimetype": "text/x-python",
   "name": "python",
   "nbconvert_exporter": "python",
   "pygments_lexer": "ipython3",
   "version": "3.7.7"
  }
 },
 "nbformat": 4,
 "nbformat_minor": 4
}
